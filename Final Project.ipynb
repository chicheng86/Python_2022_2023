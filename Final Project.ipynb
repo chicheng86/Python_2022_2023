{
 "cells": [
  {
   "cell_type": "code",
   "execution_count": null,
   "metadata": {
    "collapsed": true
   },
   "outputs": [],
   "source": [
    "# Step 1, find where is your \"working directory\". --> where you run the code\n",
    "# Step 2, save your csv file into your working directory .\n",
    "#Note: You don't necesearrily need to do that, but it will save you a lot of typing"
   ]
  },
  {
   "cell_type": "code",
   "execution_count": 3,
   "metadata": {},
   "outputs": [
    {
     "data": {
      "text/plain": [
       "'C:\\\\Users\\\\CHENGCHI\\\\Python_2022_2023'"
      ]
     },
     "execution_count": 3,
     "metadata": {},
     "output_type": "execute_result"
    }
   ],
   "source": [
    "import os  # operation system\n",
    "os.getcwd()   # get Current Working Directory"
   ]
  },
  {
   "cell_type": "code",
   "execution_count": 6,
   "metadata": {},
   "outputs": [
    {
     "name": "stdout",
     "output_type": "stream",
     "text": [
      "Column names are #.Name.Type 1.Type 2.Total.HP.Attack.Defense.Sp. Atk.Sp. Def.Speed.Generation.Legendary\n",
      "Processed 801 lines.\n"
     ]
    }
   ],
   "source": [
    "import csv\n",
    "filename=\"pokemon.csv\" # update to your file name.\n",
    "d={}  \n",
    "# opening the file using \"with\" statement\n",
    "with open(filename,'r') as csv_file:\n",
    "    csv_reader=csv.reader(csv_file,delimiter=',')\n",
    "    line_count=0\n",
    "    for row in csv_reader:\n",
    "        if line_count==0:\n",
    "            print(f'Column names are {\".\".join(row)}')\n",
    "            line_count+=1        \n",
    "        else:\n",
    "            d[row[1]]=row[7] # update the number in [] with your csv file\n",
    "            line_count+=1        \n",
    "            \n",
    "    print(f'Processed {line_count} lines.')\n",
    "    "
   ]
  },
  {
   "cell_type": "code",
   "execution_count": 7,
   "metadata": {},
   "outputs": [
    {
     "name": "stdout",
     "output_type": "stream",
     "text": [
      "{'Bulbasaur': '49', 'Ivysaur': '63', 'Venusaur': '83', 'VenusaurMega Venusaur': '123', 'Charmander': '43', 'Charmeleon': '58', 'Charizard': '78', 'CharizardMega Charizard X': '111', 'CharizardMega Charizard Y': '78', 'Squirtle': '65', 'Wartortle': '80', 'Blastoise': '100', 'BlastoiseMega Blastoise': '120', 'Caterpie': '35', 'Metapod': '55', 'Butterfree': '50', 'Weedle': '30', 'Kakuna': '50', 'Beedrill': '40', 'BeedrillMega Beedrill': '40', 'Pidgey': '40', 'Pidgeotto': '55', 'Pidgeot': '75', 'PidgeotMega Pidgeot': '80', 'Rattata': '35', 'Raticate': '60', 'Spearow': '30', 'Fearow': '65', 'Ekans': '44', 'Arbok': '69', 'Pikachu': '40', 'Raichu': '55', 'Sandshrew': '85', 'Sandslash': '110', 'Nidoranâ™€': '52', 'Nidorina': '67', 'Nidoqueen': '87', 'Nidoranâ™‚': '40', 'Nidorino': '57', 'Nidoking': '77', 'Clefairy': '48', 'Clefable': '73', 'Vulpix': '40', 'Ninetales': '75', 'Jigglypuff': '20', 'Wigglytuff': '45', 'Zubat': '35', 'Golbat': '70', 'Oddish': '55', 'Gloom': '70', 'Vileplume': '85', 'Paras': '55', 'Parasect': '80', 'Venonat': '50', 'Venomoth': '60', 'Diglett': '25', 'Dugtrio': '50', 'Meowth': '35', 'Persian': '60', 'Psyduck': '48', 'Golduck': '78', 'Mankey': '35', 'Primeape': '60', 'Growlithe': '45', 'Arcanine': '80', 'Poliwag': '40', 'Poliwhirl': '65', 'Poliwrath': '95', 'Abra': '15', 'Kadabra': '30', 'Alakazam': '45', 'AlakazamMega Alakazam': '65', 'Machop': '50', 'Machoke': '70', 'Machamp': '80', 'Bellsprout': '35', 'Weepinbell': '50', 'Victreebel': '65', 'Tentacool': '35', 'Tentacruel': '65', 'Geodude': '100', 'Graveler': '115', 'Golem': '130', 'Ponyta': '55', 'Rapidash': '70', 'Slowpoke': '65', 'Slowbro': '110', 'SlowbroMega Slowbro': '180', 'Magnemite': '70', 'Magneton': '95', \"Farfetch'd\": '55', 'Doduo': '45', 'Dodrio': '70', 'Seel': '55', 'Dewgong': '80', 'Grimer': '50', 'Muk': '75', 'Shellder': '100', 'Cloyster': '180', 'Gastly': '30', 'Haunter': '45', 'Gengar': '60', 'GengarMega Gengar': '80', 'Onix': '160', 'Drowzee': '45', 'Hypno': '70', 'Krabby': '90', 'Kingler': '115', 'Voltorb': '50', 'Electrode': '70', 'Exeggcute': '80', 'Exeggutor': '85', 'Cubone': '95', 'Marowak': '110', 'Hitmonlee': '53', 'Hitmonchan': '79', 'Lickitung': '75', 'Koffing': '95', 'Weezing': '120', 'Rhyhorn': '95', 'Rhydon': '120', 'Chansey': '5', 'Tangela': '115', 'Kangaskhan': '80', 'KangaskhanMega Kangaskhan': '100', 'Horsea': '70', 'Seadra': '95', 'Goldeen': '60', 'Seaking': '65', 'Staryu': '55', 'Starmie': '85', 'Mr. Mime': '65', 'Scyther': '80', 'Jynx': '35', 'Electabuzz': '57', 'Magmar': '57', 'Pinsir': '100', 'PinsirMega Pinsir': '120', 'Tauros': '95', 'Magikarp': '55', 'Gyarados': '79', 'GyaradosMega Gyarados': '109', 'Lapras': '80', 'Ditto': '48', 'Eevee': '50', 'Vaporeon': '60', 'Jolteon': '60', 'Flareon': '60', 'Porygon': '70', 'Omanyte': '100', 'Omastar': '125', 'Kabuto': '90', 'Kabutops': '105', 'Aerodactyl': '65', 'AerodactylMega Aerodactyl': '85', 'Snorlax': '65', 'Articuno': '100', 'Zapdos': '85', 'Moltres': '90', 'Dratini': '45', 'Dragonair': '65', 'Dragonite': '95', 'Mewtwo': '90', 'MewtwoMega Mewtwo X': '100', 'MewtwoMega Mewtwo Y': '70', 'Mew': '100', 'Chikorita': '65', 'Bayleef': '80', 'Meganium': '100', 'Cyndaquil': '43', 'Quilava': '58', 'Typhlosion': '78', 'Totodile': '64', 'Croconaw': '80', 'Feraligatr': '100', 'Sentret': '34', 'Furret': '64', 'Hoothoot': '30', 'Noctowl': '50', 'Ledyba': '30', 'Ledian': '50', 'Spinarak': '40', 'Ariados': '70', 'Crobat': '80', 'Chinchou': '38', 'Lanturn': '58', 'Pichu': '15', 'Cleffa': '28', 'Igglybuff': '15', 'Togepi': '65', 'Togetic': '85', 'Natu': '45', 'Xatu': '70', 'Mareep': '40', 'Flaaffy': '55', 'Ampharos': '85', 'AmpharosMega Ampharos': '105', 'Bellossom': '95', 'Marill': '50', 'Azumarill': '80', 'Sudowoodo': '115', 'Politoed': '75', 'Hoppip': '40', 'Skiploom': '50', 'Jumpluff': '70', 'Aipom': '55', 'Sunkern': '30', 'Sunflora': '55', 'Yanma': '45', 'Wooper': '45', 'Quagsire': '85', 'Espeon': '60', 'Umbreon': '110', 'Murkrow': '42', 'Slowking': '80', 'Misdreavus': '60', 'Unown': '48', 'Wobbuffet': '58', 'Girafarig': '65', 'Pineco': '90', 'Forretress': '140', 'Dunsparce': '70', 'Gligar': '105', 'Steelix': '200', 'SteelixMega Steelix': '230', 'Snubbull': '50', 'Granbull': '75', 'Qwilfish': '75', 'Scizor': '100', 'ScizorMega Scizor': '140', 'Shuckle': '230', 'Heracross': '75', 'HeracrossMega Heracross': '115', 'Sneasel': '55', 'Teddiursa': '50', 'Ursaring': '75', 'Slugma': '40', 'Magcargo': '120', 'Swinub': '40', 'Piloswine': '80', 'Corsola': '85', 'Remoraid': '35', 'Octillery': '75', 'Delibird': '45', 'Mantine': '70', 'Skarmory': '140', 'Houndour': '30', 'Houndoom': '50', 'HoundoomMega Houndoom': '90', 'Kingdra': '95', 'Phanpy': '60', 'Donphan': '120', 'Porygon2': '90', 'Stantler': '62', 'Smeargle': '35', 'Tyrogue': '35', 'Hitmontop': '95', 'Smoochum': '15', 'Elekid': '37', 'Magby': '37', 'Miltank': '105', 'Blissey': '10', 'Raikou': '75', 'Entei': '85', 'Suicune': '115', 'Larvitar': '50', 'Pupitar': '70', 'Tyranitar': '110', 'TyranitarMega Tyranitar': '150', 'Lugia': '130', 'Ho-oh': '90', 'Celebi': '100', 'Treecko': '35', 'Grovyle': '45', 'Sceptile': '65', 'SceptileMega Sceptile': '75', 'Torchic': '40', 'Combusken': '60', 'Blaziken': '70', 'BlazikenMega Blaziken': '80', 'Mudkip': '50', 'Marshtomp': '70', 'Swampert': '90', 'SwampertMega Swampert': '110', 'Poochyena': '35', 'Mightyena': '70', 'Zigzagoon': '41', 'Linoone': '61', 'Wurmple': '35', 'Silcoon': '55', 'Beautifly': '50', 'Cascoon': '55', 'Dustox': '70', 'Lotad': '30', 'Lombre': '50', 'Ludicolo': '70', 'Seedot': '50', 'Nuzleaf': '40', 'Shiftry': '60', 'Taillow': '30', 'Swellow': '60', 'Wingull': '30', 'Pelipper': '100', 'Ralts': '25', 'Kirlia': '35', 'Gardevoir': '65', 'GardevoirMega Gardevoir': '65', 'Surskit': '32', 'Masquerain': '62', 'Shroomish': '60', 'Breloom': '80', 'Slakoth': '60', 'Vigoroth': '80', 'Slaking': '100', 'Nincada': '90', 'Ninjask': '45', 'Shedinja': '45', 'Whismur': '23', 'Loudred': '43', 'Exploud': '63', 'Makuhita': '30', 'Hariyama': '60', 'Azurill': '40', 'Nosepass': '135', 'Skitty': '45', 'Delcatty': '65', 'Sableye': '75', 'SableyeMega Sableye': '125', 'Mawile': '85', 'MawileMega Mawile': '125', 'Aron': '100', 'Lairon': '140', 'Aggron': '180', 'AggronMega Aggron': '230', 'Meditite': '55', 'Medicham': '75', 'MedichamMega Medicham': '85', 'Electrike': '40', 'Manectric': '60', 'ManectricMega Manectric': '80', 'Plusle': '40', 'Minun': '50', 'Volbeat': '55', 'Illumise': '55', 'Roselia': '45', 'Gulpin': '53', 'Swalot': '83', 'Carvanha': '20', 'Sharpedo': '40', 'SharpedoMega Sharpedo': '70', 'Wailmer': '35', 'Wailord': '45', 'Numel': '40', 'Camerupt': '70', 'CameruptMega Camerupt': '100', 'Torkoal': '140', 'Spoink': '35', 'Grumpig': '65', 'Spinda': '60', 'Trapinch': '45', 'Vibrava': '50', 'Flygon': '80', 'Cacnea': '40', 'Cacturne': '60', 'Swablu': '60', 'Altaria': '90', 'AltariaMega Altaria': '110', 'Zangoose': '60', 'Seviper': '60', 'Lunatone': '65', 'Solrock': '85', 'Barboach': '43', 'Whiscash': '73', 'Corphish': '65', 'Crawdaunt': '85', 'Baltoy': '55', 'Claydol': '105', 'Lileep': '77', 'Cradily': '97', 'Anorith': '50', 'Armaldo': '100', 'Feebas': '20', 'Milotic': '79', 'Castform': '70', 'Kecleon': '70', 'Shuppet': '35', 'Banette': '65', 'BanetteMega Banette': '75', 'Duskull': '90', 'Dusclops': '130', 'Tropius': '83', 'Chimecho': '70', 'Absol': '60', 'AbsolMega Absol': '60', 'Wynaut': '48', 'Snorunt': '50', 'Glalie': '80', 'GlalieMega Glalie': '80', 'Spheal': '50', 'Sealeo': '70', 'Walrein': '90', 'Clamperl': '85', 'Huntail': '105', 'Gorebyss': '105', 'Relicanth': '130', 'Luvdisc': '55', 'Bagon': '60', 'Shelgon': '100', 'Salamence': '80', 'SalamenceMega Salamence': '130', 'Beldum': '80', 'Metang': '100', 'Metagross': '130', 'MetagrossMega Metagross': '150', 'Regirock': '200', 'Regice': '100', 'Registeel': '150', 'Latias': '90', 'LatiasMega Latias': '120', 'Latios': '80', 'LatiosMega Latios': '100', 'Kyogre': '90', 'KyogrePrimal Kyogre': '90', 'Groudon': '140', 'GroudonPrimal Groudon': '160', 'Rayquaza': '90', 'RayquazaMega Rayquaza': '100', 'Jirachi': '100', 'DeoxysNormal Forme': '50', 'DeoxysAttack Forme': '20', 'DeoxysDefense Forme': '160', 'DeoxysSpeed Forme': '90', 'Turtwig': '64', 'Grotle': '85', 'Torterra': '105', 'Chimchar': '44', 'Monferno': '52', 'Infernape': '71', 'Piplup': '53', 'Prinplup': '68', 'Empoleon': '88', 'Starly': '30', 'Staravia': '50', 'Staraptor': '70', 'Bidoof': '40', 'Bibarel': '60', 'Kricketot': '41', 'Kricketune': '51', 'Shinx': '34', 'Luxio': '49', 'Luxray': '79', 'Budew': '35', 'Roserade': '65', 'Cranidos': '40', 'Rampardos': '60', 'Shieldon': '118', 'Bastiodon': '168', 'Burmy': '45', 'WormadamPlant Cloak': '85', 'WormadamSandy Cloak': '105', 'WormadamTrash Cloak': '95', 'Mothim': '50', 'Combee': '42', 'Vespiquen': '102', 'Pachirisu': '70', 'Buizel': '35', 'Floatzel': '55', 'Cherubi': '45', 'Cherrim': '70', 'Shellos': '48', 'Gastrodon': '68', 'Ambipom': '66', 'Drifloon': '34', 'Drifblim': '44', 'Buneary': '44', 'Lopunny': '84', 'LopunnyMega Lopunny': '94', 'Mismagius': '60', 'Honchkrow': '52', 'Glameow': '42', 'Purugly': '64', 'Chingling': '50', 'Stunky': '47', 'Skuntank': '67', 'Bronzor': '86', 'Bronzong': '116', 'Bonsly': '95', 'Mime Jr.': '45', 'Happiny': '5', 'Chatot': '45', 'Spiritomb': '108', 'Gible': '45', 'Gabite': '65', 'Garchomp': '95', 'GarchompMega Garchomp': '115', 'Munchlax': '40', 'Riolu': '40', 'Lucario': '70', 'LucarioMega Lucario': '88', 'Hippopotas': '78', 'Hippowdon': '118', 'Skorupi': '90', 'Drapion': '110', 'Croagunk': '40', 'Toxicroak': '65', 'Carnivine': '72', 'Finneon': '56', 'Lumineon': '76', 'Mantyke': '50', 'Snover': '50', 'Abomasnow': '75', 'AbomasnowMega Abomasnow': '105', 'Weavile': '65', 'Magnezone': '115', 'Lickilicky': '95', 'Rhyperior': '130', 'Tangrowth': '125', 'Electivire': '67', 'Magmortar': '67', 'Togekiss': '95', 'Yanmega': '86', 'Leafeon': '130', 'Glaceon': '110', 'Gliscor': '125', 'Mamoswine': '80', 'Porygon-Z': '70', 'Gallade': '65', 'GalladeMega Gallade': '95', 'Probopass': '145', 'Dusknoir': '135', 'Froslass': '70', 'Rotom': '77', 'RotomHeat Rotom': '107', 'RotomWash Rotom': '107', 'RotomFrost Rotom': '107', 'RotomFan Rotom': '107', 'RotomMow Rotom': '107', 'Uxie': '130', 'Mesprit': '105', 'Azelf': '70', 'Dialga': '120', 'Palkia': '100', 'Heatran': '106', 'Regigigas': '110', 'GiratinaAltered Forme': '120', 'GiratinaOrigin Forme': '100', 'Cresselia': '120', 'Phione': '80', 'Manaphy': '100', 'Darkrai': '90', 'ShayminLand Forme': '100', 'ShayminSky Forme': '75', 'Arceus': '120', 'Victini': '100', 'Snivy': '55', 'Servine': '75', 'Serperior': '95', 'Tepig': '45', 'Pignite': '55', 'Emboar': '65', 'Oshawott': '45', 'Dewott': '60', 'Samurott': '85', 'Patrat': '39', 'Watchog': '69', 'Lillipup': '45', 'Herdier': '65', 'Stoutland': '90', 'Purrloin': '37', 'Liepard': '50', 'Pansage': '48', 'Simisage': '63', 'Pansear': '48', 'Simisear': '63', 'Panpour': '48', 'Simipour': '63', 'Munna': '45', 'Musharna': '85', 'Pidove': '50', 'Tranquill': '62', 'Unfezant': '80', 'Blitzle': '32', 'Zebstrika': '63', 'Roggenrola': '85', 'Boldore': '105', 'Gigalith': '130', 'Woobat': '43', 'Swoobat': '55', 'Drilbur': '40', 'Excadrill': '60', 'Audino': '86', 'AudinoMega Audino': '126', 'Timburr': '55', 'Gurdurr': '85', 'Conkeldurr': '95', 'Tympole': '40', 'Palpitoad': '55', 'Seismitoad': '75', 'Throh': '85', 'Sawk': '75', 'Sewaddle': '70', 'Swadloon': '90', 'Leavanny': '80', 'Venipede': '59', 'Whirlipede': '99', 'Scolipede': '89', 'Cottonee': '60', 'Whimsicott': '85', 'Petilil': '50', 'Lilligant': '75', 'Basculin': '65', 'Sandile': '35', 'Krokorok': '45', 'Krookodile': '80', 'Darumaka': '45', 'DarmanitanStandard Mode': '55', 'DarmanitanZen Mode': '105', 'Maractus': '67', 'Dwebble': '85', 'Crustle': '125', 'Scraggy': '70', 'Scrafty': '115', 'Sigilyph': '80', 'Yamask': '85', 'Cofagrigus': '145', 'Tirtouga': '103', 'Carracosta': '133', 'Archen': '45', 'Archeops': '65', 'Trubbish': '62', 'Garbodor': '82', 'Zorua': '40', 'Zoroark': '60', 'Minccino': '40', 'Cinccino': '60', 'Gothita': '50', 'Gothorita': '70', 'Gothitelle': '95', 'Solosis': '40', 'Duosion': '50', 'Reuniclus': '75', 'Ducklett': '50', 'Swanna': '63', 'Vanillite': '50', 'Vanillish': '65', 'Vanilluxe': '85', 'Deerling': '50', 'Sawsbuck': '70', 'Emolga': '60', 'Karrablast': '45', 'Escavalier': '105', 'Foongus': '45', 'Amoonguss': '70', 'Frillish': '50', 'Jellicent': '70', 'Alomomola': '80', 'Joltik': '50', 'Galvantula': '60', 'Ferroseed': '91', 'Ferrothorn': '131', 'Klink': '70', 'Klang': '95', 'Klinklang': '115', 'Tynamo': '40', 'Eelektrik': '70', 'Eelektross': '80', 'Elgyem': '55', 'Beheeyem': '75', 'Litwick': '55', 'Lampent': '60', 'Chandelure': '90', 'Axew': '60', 'Fraxure': '70', 'Haxorus': '90', 'Cubchoo': '40', 'Beartic': '80', 'Cryogonal': '30', 'Shelmet': '85', 'Accelgor': '40', 'Stunfisk': '84', 'Mienfoo': '50', 'Mienshao': '60', 'Druddigon': '90', 'Golett': '50', 'Golurk': '80', 'Pawniard': '70', 'Bisharp': '100', 'Bouffalant': '95', 'Rufflet': '50', 'Braviary': '75', 'Vullaby': '75', 'Mandibuzz': '105', 'Heatmor': '66', 'Durant': '112', 'Deino': '50', 'Zweilous': '70', 'Hydreigon': '90', 'Larvesta': '55', 'Volcarona': '65', 'Cobalion': '129', 'Terrakion': '90', 'Virizion': '72', 'TornadusIncarnate Forme': '70', 'TornadusTherian Forme': '80', 'ThundurusIncarnate Forme': '70', 'ThundurusTherian Forme': '70', 'Reshiram': '100', 'Zekrom': '120', 'LandorusIncarnate Forme': '90', 'LandorusTherian Forme': '90', 'Kyurem': '90', 'KyuremBlack Kyurem': '100', 'KyuremWhite Kyurem': '90', 'KeldeoOrdinary Forme': '90', 'KeldeoResolute Forme': '90', 'MeloettaAria Forme': '77', 'MeloettaPirouette Forme': '90', 'Genesect': '95', 'Chespin': '65', 'Quilladin': '95', 'Chesnaught': '122', 'Fennekin': '40', 'Braixen': '58', 'Delphox': '72', 'Froakie': '40', 'Frogadier': '52', 'Greninja': '67', 'Bunnelby': '38', 'Diggersby': '77', 'Fletchling': '43', 'Fletchinder': '55', 'Talonflame': '71', 'Scatterbug': '40', 'Spewpa': '60', 'Vivillon': '50', 'Litleo': '58', 'Pyroar': '72', 'FlabÃ©bÃ©': '39', 'Floette': '47', 'Florges': '68', 'Skiddo': '48', 'Gogoat': '62', 'Pancham': '62', 'Pangoro': '78', 'Furfrou': '60', 'Espurr': '54', 'MeowsticMale': '76', 'MeowsticFemale': '76', 'Honedge': '100', 'Doublade': '150', 'AegislashBlade Forme': '50', 'AegislashShield Forme': '150', 'Spritzee': '60', 'Aromatisse': '72', 'Swirlix': '66', 'Slurpuff': '86', 'Inkay': '53', 'Malamar': '88', 'Binacle': '67', 'Barbaracle': '115', 'Skrelp': '60', 'Dragalge': '90', 'Clauncher': '62', 'Clawitzer': '88', 'Helioptile': '33', 'Heliolisk': '52', 'Tyrunt': '77', 'Tyrantrum': '119', 'Amaura': '50', 'Aurorus': '72', 'Sylveon': '65', 'Hawlucha': '75', 'Dedenne': '57', 'Carbink': '150', 'Goomy': '35', 'Sliggoo': '53', 'Goodra': '70', 'Klefki': '91', 'Phantump': '48', 'Trevenant': '76', 'PumpkabooAverage Size': '70', 'PumpkabooSmall Size': '70', 'PumpkabooLarge Size': '70', 'PumpkabooSuper Size': '70', 'GourgeistAverage Size': '122', 'GourgeistSmall Size': '122', 'GourgeistLarge Size': '122', 'GourgeistSuper Size': '122', 'Bergmite': '85', 'Avalugg': '184', 'Noibat': '35', 'Noivern': '80', 'Xerneas': '95', 'Yveltal': '95', 'Zygarde50% Forme': '121', 'Diancie': '150', 'DiancieMega Diancie': '110', 'HoopaHoopa Confined': '60', 'HoopaHoopa Unbound': '60', 'Volcanion': '120'}\n"
     ]
    }
   ],
   "source": [
    "print(d)"
   ]
  },
  {
   "cell_type": "code",
   "execution_count": 14,
   "metadata": {},
   "outputs": [
    {
     "name": "stdout",
     "output_type": "stream",
     "text": [
      "['SlowbroMega Slowbro', 'Cloyster', 'Onix', 'Steelix', 'SteelixMega Steelix', 'Shuckle', 'Aggron', 'AggronMega Aggron', 'Regirock', 'GroudonPrimal Groudon', 'DeoxysDefense Forme', 'Bastiodon', 'Avalugg']\n"
     ]
    },
    {
     "data": {
      "text/plain": [
       "['SlowbroMega Slowbro',\n",
       " 'Cloyster',\n",
       " 'Onix',\n",
       " 'Steelix',\n",
       " 'SteelixMega Steelix',\n",
       " 'Shuckle',\n",
       " 'Aggron',\n",
       " 'AggronMega Aggron',\n",
       " 'Regirock',\n",
       " 'GroudonPrimal Groudon',\n",
       " 'DeoxysDefense Forme',\n",
       " 'Bastiodon',\n",
       " 'Avalugg']"
      ]
     },
     "execution_count": 14,
     "metadata": {},
     "output_type": "execute_result"
    }
   ],
   "source": [
    "def largest_defense(d,x): # find those creature with defense larger than 150\n",
    "    l=[]\n",
    "    for key in d:\n",
    "        if int(d[key])>x:\n",
    "            l.append(key)\n",
    "    print(l)\n",
    "    return l\n",
    "largest_defense(d,150)"
   ]
  },
  {
   "cell_type": "code",
   "execution_count": null,
   "metadata": {
    "collapsed": true
   },
   "outputs": [],
   "source": []
  }
 ],
 "metadata": {
  "kernelspec": {
   "display_name": "Python 3",
   "language": "python",
   "name": "python3"
  },
  "language_info": {
   "codemirror_mode": {
    "name": "ipython",
    "version": 3
   },
   "file_extension": ".py",
   "mimetype": "text/x-python",
   "name": "python",
   "nbconvert_exporter": "python",
   "pygments_lexer": "ipython3",
   "version": "3.6.11"
  }
 },
 "nbformat": 4,
 "nbformat_minor": 2
}
