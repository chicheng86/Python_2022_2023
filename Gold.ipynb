{
 "cells": [
  {
   "cell_type": "code",
   "execution_count": null,
   "id": "2e1c5efe",
   "metadata": {},
   "outputs": [],
   "source": [
    "import csv\n",
    "filename=\"gold.csv\"\n",
    "d={}\n",
    "with open(filename,'r') as csv_file:\n",
    "    csv_reader=csv.reader(csv_file, delimiter=',')\n",
    "    line_count=0\n",
    "    sumOfPrice = 0.0\n",
    "    maxPrice = 0.0\n",
    "    minPrice = 10000.0\n",
    "    for row in csv_reader:\n",
    "        if line_count==0:\n",
    "            print(f'Coulumn names are {\".\".join(row)}')\n",
    "            line_count+=1\n",
    "        else:\n",
    "            d[row[0]]=row[4]\n",
    "            curPrice = float(row[4])\n",
    "            sumOfPrice += curPrice\n",
    "            if curPrice>maxPrice:\n",
    "                maxPrice = curPrice\n",
    "            if curPrice<minPrice:\n",
    "                minPrice=curPrice\n",
    "            \n",
    "            line_count+=1\n",
    "    average = sumOfPrice/line_count\n",
    "    print(f'Processed {line_count} lines. Average is {average}')\n",
    "    print(f'Max price is {maxPrice}')\n",
    "    print(f'Minimum price is {minPrice}')"
   ]
  }
 ],
 "metadata": {
  "kernelspec": {
   "display_name": "Python 3 (ipykernel)",
   "language": "python",
   "name": "python3"
  },
  "language_info": {
   "codemirror_mode": {
    "name": "ipython",
    "version": 3
   },
   "file_extension": ".py",
   "mimetype": "text/x-python",
   "name": "python",
   "nbconvert_exporter": "python",
   "pygments_lexer": "ipython3",
   "version": "3.10.11"
  }
 },
 "nbformat": 4,
 "nbformat_minor": 5
}
