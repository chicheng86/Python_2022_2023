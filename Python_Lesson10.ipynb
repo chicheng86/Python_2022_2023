{
 "cells": [
  {
   "cell_type": "markdown",
   "metadata": {},
   "source": [
    "Recap:\n",
    "1. What is programing and why we want to choose \"python\"\n",
    "2. Chatbot:  Input, print Syntax\n",
    "3. Tip Caculator: Variables, and Value: float, interger, string.\n",
    "4. Function: Syntax, Indentation, How to call function and Return.\n",
    "5. Turtle: modularization and generalization."
   ]
  },
  {
   "cell_type": "code",
   "execution_count": 2,
   "metadata": {},
   "outputs": [
    {
     "name": "stdout",
     "output_type": "stream",
     "text": [
      "What is your name? Cheng Chi\n",
      "Nice to meet you Cheng Chi\n"
     ]
    }
   ],
   "source": [
    "Name=input('What is your name? ')\n",
    "print('Nice to meet you', Name)  # double quote also works"
   ]
  },
  {
   "cell_type": "code",
   "execution_count": 5,
   "metadata": {},
   "outputs": [
    {
     "name": "stdout",
     "output_type": "stream",
     "text": [
      "Dinneramount40.0\n",
      "6.0\n"
     ]
    }
   ],
   "source": [
    "Dinneramount=float(input('Dinneramount'))\n",
    "Tip=Dinneramount*0.15\n",
    "print(Tip)"
   ]
  },
  {
   "cell_type": "code",
   "execution_count": 7,
   "metadata": {},
   "outputs": [
    {
     "name": "stdout",
     "output_type": "stream",
     "text": [
      "Dinneramount40.0\n",
      "6.0\n"
     ]
    }
   ],
   "source": [
    "def Tipcaclulator():\n",
    "    Dinneramount=float(input('Dinneramount'))\n",
    "    Tip=Dinneramount*0.15\n",
    "    return Tip\n",
    "Tipcaclulator()    "
   ]
  },
  {
   "cell_type": "code",
   "execution_count": 10,
   "metadata": {},
   "outputs": [
    {
     "data": {
      "text/plain": [
       "9.0"
      ]
     },
     "execution_count": 10,
     "metadata": {},
     "output_type": "execute_result"
    }
   ],
   "source": [
    "#Dinneramount=float(input('Dinneramount'))\n",
    "def Tipcaclulator2(Dinneramount):    \n",
    "    Tip=Dinneramount*0.15\n",
    "    return Tip\n",
    "Tipcaclulator2(60.0)  "
   ]
  },
  {
   "cell_type": "code",
   "execution_count": null,
   "metadata": {
    "collapsed": true
   },
   "outputs": [],
   "source": [
    "def drawshape():\n",
    "\tfor i in range(6):\n",
    "\t\tt.circle(100)\n",
    "\t\tt.right(60)\n",
    "    \n",
    "drawshape()\n",
    "\n",
    "\n"
   ]
  },
  {
   "cell_type": "code",
   "execution_count": null,
   "metadata": {
    "collapsed": true
   },
   "outputs": [],
   "source": [
    "def drawshape1(x):\n",
    "\tfor i in range(x):\n",
    "\t\tt.circle(100)\n",
    "\t\tt.right(60)\n",
    "drawshape1(4)"
   ]
  }
 ],
 "metadata": {
  "kernelspec": {
   "display_name": "Python 3",
   "language": "python",
   "name": "python3"
  },
  "language_info": {
   "codemirror_mode": {
    "name": "ipython",
    "version": 3
   },
   "file_extension": ".py",
   "mimetype": "text/x-python",
   "name": "python",
   "nbconvert_exporter": "python",
   "pygments_lexer": "ipython3",
   "version": "3.6.11"
  }
 },
 "nbformat": 4,
 "nbformat_minor": 2
}
