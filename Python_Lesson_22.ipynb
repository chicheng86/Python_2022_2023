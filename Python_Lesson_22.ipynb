{
 "cells": [
  {
   "cell_type": "markdown",
   "metadata": {},
   "source": [
    "Lab 1, create a new list and filter numbers based on conditions\n",
    "if there is a list [2,3,5,10,5,3]\n",
    "==> create a new list, which include all the elements in the original list which is larger than 3\n",
    "==> new list would be [5,10,5] "
   ]
  },
  {
   "cell_type": "code",
   "execution_count": null,
   "metadata": {
    "collapsed": true
   },
   "outputs": [],
   "source": [
    "Lab 2, skip number, based on index.\n",
    "e.g. there is a list [2,3,5,10,5,3]\n",
    "==> Create a new list, with all the elements with even index.\n",
    "==> new list would be [2,5,5]"
   ]
  },
  {
   "cell_type": "markdown",
   "metadata": {},
   "source": [
    "\n",
    "    "
   ]
  },
  {
   "cell_type": "markdown",
   "metadata": {},
   "source": [
    "1. create a new list --> l_name=[]2. \n",
    "2. looping in a list --> for i in range(len(l)) \n",
    "3. if xxxxx  :\n",
    "4. add item in a list-->  l_name.append(xx)\n",
    "5. def functioname(a1, a2):\n",
    "    "
   ]
  },
  {
   "cell_type": "code",
   "execution_count": 7,
   "metadata": {},
   "outputs": [
    {
     "name": "stdout",
     "output_type": "stream",
     "text": [
      "[5, 10, 5]\n"
     ]
    }
   ],
   "source": [
    "new_list=[]\n",
    "orignal_list=[2,3,5,10,5,3]\n",
    "for i in range(len(orignal_list)):\n",
    "    if orignal_list[i]>3:\n",
    "        new_list.append(orignal_list[i])\n",
    "print(new_list)"
   ]
  },
  {
   "cell_type": "code",
   "execution_count": null,
   "metadata": {
    "collapsed": true
   },
   "outputs": [],
   "source": [
    "def screenlist(orignal_list,num):\n",
    "    new_list=[]\n",
    "    orignal_list=[2,3,5,10,5,3]\n",
    "    for i in range(len(orignal_list)):\n",
    "        if orignal_list[i]>3:\n",
    "            new_list.append(orignal_list[i])\n",
    "    return(new_list)"
   ]
  },
  {
   "cell_type": "code",
   "execution_count": 8,
   "metadata": {},
   "outputs": [
    {
     "data": {
      "text/plain": [
       "[134, 5634]"
      ]
     },
     "execution_count": 8,
     "metadata": {},
     "output_type": "execute_result"
    }
   ],
   "source": [
    "screenlist([2,5,134,3,6,5634,2,5], 100)"
   ]
  },
  {
   "cell_type": "code",
   "execution_count": 5,
   "metadata": {},
   "outputs": [
    {
     "data": {
      "text/plain": [
       "[1, 3, 5]"
      ]
     },
     "execution_count": 5,
     "metadata": {},
     "output_type": "execute_result"
    }
   ],
   "source": [
    "def skipnumber(l):\n",
    "    l2=[]\n",
    "    for i in range(len(l)):\n",
    "        if i%2==0:\n",
    "            l2.append(l[i])\n",
    "    return l2\n",
    "\n",
    "skipnumber([1,2,3,4,5])\n",
    "            "
   ]
  },
  {
   "cell_type": "code",
   "execution_count": null,
   "metadata": {
    "collapsed": true
   },
   "outputs": [],
   "source": []
  },
  {
   "cell_type": "code",
   "execution_count": null,
   "metadata": {
    "collapsed": true
   },
   "outputs": [],
   "source": []
  }
 ],
 "metadata": {
  "kernelspec": {
   "display_name": "Python 3",
   "language": "python",
   "name": "python3"
  },
  "language_info": {
   "codemirror_mode": {
    "name": "ipython",
    "version": 3
   },
   "file_extension": ".py",
   "mimetype": "text/x-python",
   "name": "python",
   "nbconvert_exporter": "python",
   "pygments_lexer": "ipython3",
   "version": "3.6.11"
  }
 },
 "nbformat": 4,
 "nbformat_minor": 2
}
