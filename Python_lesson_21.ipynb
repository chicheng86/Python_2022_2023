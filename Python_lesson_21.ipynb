{
 "cells": [
  {
   "cell_type": "markdown",
   "id": "ba9a3392-bde9-480a-8783-b2e20c14490a",
   "metadata": {},
   "source": [
    "# List"
   ]
  },
  {
   "cell_type": "code",
   "execution_count": 78,
   "id": "7a6ac589-b04d-4c11-b5b0-53269ebb2faa",
   "metadata": {},
   "outputs": [],
   "source": [
    "# template: input is a list, return a list\n",
    "def foo(a: list)-> list:\n",
    "    return a"
   ]
  },
  {
   "cell_type": "code",
   "execution_count": 79,
   "id": "622eee97-27a0-4264-ab9d-75fd35278877",
   "metadata": {},
   "outputs": [
    {
     "data": {
      "text/plain": [
       "[1, 2, 3]"
      ]
     },
     "execution_count": 79,
     "metadata": {},
     "output_type": "execute_result"
    }
   ],
   "source": [
    "foo([1, 2, 3])"
   ]
  },
  {
   "cell_type": "markdown",
   "id": "634b68fd-2617-4b88-8db9-394189cc60f5",
   "metadata": {},
   "source": [
    "### Exe-1: Loop a List, print each element one by one, each on a line"
   ]
  },
  {
   "cell_type": "code",
   "execution_count": 80,
   "id": "43e62e82",
   "metadata": {},
   "outputs": [],
   "source": [
    "def foo(a: list)-> list:\n",
    "    for i in a:\n",
    "        print(i)\n",
    "    return a"
   ]
  },
  {
   "cell_type": "code",
   "execution_count": 81,
   "id": "390473a3",
   "metadata": {},
   "outputs": [
    {
     "name": "stdout",
     "output_type": "stream",
     "text": [
      "1\n",
      "2\n",
      "3\n"
     ]
    },
    {
     "data": {
      "text/plain": [
       "[1, 2, 3]"
      ]
     },
     "execution_count": 81,
     "metadata": {},
     "output_type": "execute_result"
    }
   ],
   "source": [
    "foo([1, 2,3])"
   ]
  },
  {
   "cell_type": "markdown",
   "id": "4c908b54-80bd-4d01-a602-5c67d045ec0a",
   "metadata": {},
   "source": [
    "### Exe-2: return the element with even index"
   ]
  },
  {
   "cell_type": "code",
   "execution_count": 82,
   "id": "5151cbf3",
   "metadata": {},
   "outputs": [],
   "source": [
    "def get_odd_index_num(a: list)-> list:\n",
    "    for i in range(len(a)):\n",
    "        if i%2 == 1:\n",
    "            print(a[i])\n",
    "    return a"
   ]
  },
  {
   "cell_type": "code",
   "execution_count": 83,
   "id": "14142c7e",
   "metadata": {},
   "outputs": [
    {
     "name": "stdout",
     "output_type": "stream",
     "text": [
      "1\n",
      "3\n",
      "5\n"
     ]
    },
    {
     "data": {
      "text/plain": [
       "[0, 1, 2, 3, 4, 5, 6]"
      ]
     },
     "execution_count": 83,
     "metadata": {},
     "output_type": "execute_result"
    }
   ],
   "source": [
    "get_odd_index_num([0,1,2,3,4,5,6])"
   ]
  },
  {
   "cell_type": "markdown",
   "id": "43f83411-b24d-4624-b4ce-3ee8ce235be6",
   "metadata": {},
   "source": [
    "### Exe-3: Sort a List .sort()"
   ]
  },
  {
   "cell_type": "code",
   "execution_count": 84,
   "id": "85ef2578",
   "metadata": {},
   "outputs": [
    {
     "name": "stdout",
     "output_type": "stream",
     "text": [
      "None\n"
     ]
    },
    {
     "data": {
      "text/plain": [
       "[-1, 1, 1, 3, 6]"
      ]
     },
     "execution_count": 84,
     "metadata": {},
     "output_type": "execute_result"
    }
   ],
   "source": [
    "a = [1, -1, 3, 1, 6]\n",
    "print(a.sort())\n",
    "a"
   ]
  },
  {
   "cell_type": "markdown",
   "id": "67b281fc-c874-4fc3-84a4-156b65d45bc1",
   "metadata": {},
   "source": [
    "### (optional) Sorting Algorithm"
   ]
  },
  {
   "cell_type": "code",
   "execution_count": 85,
   "id": "06e3769f",
   "metadata": {},
   "outputs": [],
   "source": [
    "'''\n",
    "In place bubble sort\n",
    "'''\n",
    "def bubble_sort(a: list)-> list:\n",
    "    # b = []\n",
    "    # .append()\n",
    "    for i in range(len(a)):\n",
    "        j = i\n",
    "        for j in range(i, 0, -1):\n",
    "            print(a[:j]);\n",
    "            if a[j] < a[j-1]:\n",
    "                print(f\"switch {a[j]} and {a[j-1]}\")\n",
    "                a[j], a[j-1] = a[j-1], a[j]\n",
    "                \n",
    "    return a"
   ]
  },
  {
   "cell_type": "code",
   "execution_count": 86,
   "id": "e0edbdf8",
   "metadata": {},
   "outputs": [
    {
     "name": "stdout",
     "output_type": "stream",
     "text": [
      "[5]\n",
      "switch 2 and 5\n",
      "[2, 5]\n",
      "switch 4 and 5\n",
      "[2]\n",
      "[2, 4, 5]\n",
      "[2, 4]\n",
      "[2]\n",
      "[2, 4, 5, 6]\n",
      "switch 1 and 6\n",
      "[2, 4, 5]\n",
      "switch 1 and 5\n",
      "[2, 4]\n",
      "switch 1 and 4\n",
      "[2]\n",
      "switch 1 and 2\n",
      "[1, 2, 4, 5, 6]\n",
      "switch 3 and 6\n",
      "[1, 2, 4, 5]\n",
      "switch 3 and 5\n",
      "[1, 2, 4]\n",
      "switch 3 and 4\n",
      "[1, 2]\n",
      "[1]\n",
      "[1, 2, 3, 4, 5, 6]\n"
     ]
    }
   ],
   "source": [
    "a = [5,2,4,6,1,3]\n",
    "a = bubble_sort(a)\n",
    "print(a)"
   ]
  },
  {
   "cell_type": "markdown",
   "id": "7072ca3f-93a4-4b19-a6d2-1fafa0caa46f",
   "metadata": {},
   "source": [
    "## Search"
   ]
  },
  {
   "cell_type": "markdown",
   "id": "7add77a8",
   "metadata": {},
   "source": [
    "### Example: search an elelment by index"
   ]
  },
  {
   "cell_type": "code",
   "execution_count": 88,
   "id": "ebb78f54-b27c-41c1-892f-935624a9bb69",
   "metadata": {},
   "outputs": [],
   "source": [
    "# template: input is a list, reture is an integer\n",
    "def bar(b: list, index: int) -> int:\n",
    "    element = b[index]\n",
    "    return element"
   ]
  },
  {
   "cell_type": "code",
   "execution_count": 89,
   "id": "2971f002-9c14-4ec2-911d-a09f45395607",
   "metadata": {},
   "outputs": [
    {
     "data": {
      "text/plain": [
       "3"
      ]
     },
     "execution_count": 89,
     "metadata": {},
     "output_type": "execute_result"
    }
   ],
   "source": [
    "bar([1, 2, 3], 2)"
   ]
  },
  {
   "cell_type": "markdown",
   "id": "427de075-5f5f-4fde-8841-898b5d0d56fa",
   "metadata": {},
   "source": [
    "### Exe-4: search an element by value"
   ]
  },
  {
   "cell_type": "code",
   "execution_count": 90,
   "id": "d606a64d",
   "metadata": {},
   "outputs": [],
   "source": [
    "a = [2, 5, 1]\n",
    "index = [0, 1, 2]"
   ]
  },
  {
   "cell_type": "code",
   "execution_count": 91,
   "id": "ff447b59",
   "metadata": {},
   "outputs": [],
   "source": [
    "#bar([1, 2, 3], 2) -> 1\n",
    "# return the index of the value\n",
    "def search_by_value(b: list, value: int) -> int:\n",
    "    for i in range(len(b)):\n",
    "        if b[i] == value:\n",
    "            return \"the index of \" + str(value) + \" is \" + str(i)\n",
    "        \n",
    "    return str(value) + \" is not in the list \"+ str(b)"
   ]
  },
  {
   "cell_type": "code",
   "execution_count": 92,
   "id": "7f367f74",
   "metadata": {},
   "outputs": [
    {
     "data": {
      "text/plain": [
       "'the index of 3 is 2'"
      ]
     },
     "execution_count": 92,
     "metadata": {},
     "output_type": "execute_result"
    }
   ],
   "source": [
    "search_by_value([1, 2, 3], 3)"
   ]
  }
 ],
 "metadata": {
  "kernelspec": {
   "display_name": "Python 3.9.13 64-bit",
   "language": "python",
   "name": "python3"
  },
  "language_info": {
   "codemirror_mode": {
    "name": "ipython",
    "version": 3
   },
   "file_extension": ".py",
   "mimetype": "text/x-python",
   "name": "python",
   "nbconvert_exporter": "python",
   "pygments_lexer": "ipython3",
   "version": "3.9.13"
  },
  "vscode": {
   "interpreter": {
    "hash": "397704579725e15f5c7cb49fe5f0341eb7531c82d19f2c29d197e8b64ab5776b"
   }
  }
 },
 "nbformat": 4,
 "nbformat_minor": 5
}
