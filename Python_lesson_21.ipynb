{
 "cells": [
  {
   "cell_type": "markdown",
   "id": "ba9a3392-bde9-480a-8783-b2e20c14490a",
   "metadata": {},
   "source": [
    "# List"
   ]
  },
  {
   "cell_type": "code",
   "execution_count": 3,
   "id": "7a6ac589-b04d-4c11-b5b0-53269ebb2faa",
   "metadata": {},
   "outputs": [],
   "source": [
    "# template: input is a list, return a list\n",
    "def foo(a: list)-> list:\n",
    "    return a"
   ]
  },
  {
   "cell_type": "code",
   "execution_count": 5,
   "id": "622eee97-27a0-4264-ab9d-75fd35278877",
   "metadata": {},
   "outputs": [
    {
     "data": {
      "text/plain": [
       "[1, 2, 3]"
      ]
     },
     "execution_count": 5,
     "metadata": {},
     "output_type": "execute_result"
    }
   ],
   "source": [
    "foo([1, 2, 3])"
   ]
  },
  {
   "cell_type": "markdown",
   "id": "634b68fd-2617-4b88-8db9-394189cc60f5",
   "metadata": {},
   "source": [
    "### Exe-1: Loop a List"
   ]
  },
  {
   "cell_type": "markdown",
   "id": "4c908b54-80bd-4d01-a602-5c67d045ec0a",
   "metadata": {},
   "source": [
    "### Exe-2: return the element with even index"
   ]
  },
  {
   "cell_type": "markdown",
   "id": "43f83411-b24d-4624-b4ce-3ee8ce235be6",
   "metadata": {},
   "source": [
    "### Exe-3: Sort a List .sort()"
   ]
  },
  {
   "cell_type": "markdown",
   "id": "67b281fc-c874-4fc3-84a4-156b65d45bc1",
   "metadata": {},
   "source": [
    "### (optional) Sorting Algorithm"
   ]
  },
  {
   "cell_type": "markdown",
   "id": "7072ca3f-93a4-4b19-a6d2-1fafa0caa46f",
   "metadata": {},
   "source": [
    "## Example: search a value by index"
   ]
  },
  {
   "cell_type": "code",
   "execution_count": 8,
   "id": "ebb78f54-b27c-41c1-892f-935624a9bb69",
   "metadata": {},
   "outputs": [],
   "source": [
    "# template: input is a list, reture is an integer\n",
    "def bar(b: list, index: int) -> int:\n",
    "    element = b[index]\n",
    "    return element"
   ]
  },
  {
   "cell_type": "code",
   "execution_count": 12,
   "id": "2971f002-9c14-4ec2-911d-a09f45395607",
   "metadata": {},
   "outputs": [
    {
     "data": {
      "text/plain": [
       "3"
      ]
     },
     "execution_count": 12,
     "metadata": {},
     "output_type": "execute_result"
    }
   ],
   "source": [
    "bar([1, 2, 3], 2)"
   ]
  },
  {
   "cell_type": "markdown",
   "id": "427de075-5f5f-4fde-8841-898b5d0d56fa",
   "metadata": {},
   "source": [
    "### Exe-4: search an element by value"
   ]
  }
 ],
 "metadata": {
  "kernelspec": {
   "display_name": "Python 3 (ipykernel)",
   "language": "python",
   "name": "python3"
  },
  "language_info": {
   "codemirror_mode": {
    "name": "ipython",
    "version": 3
   },
   "file_extension": ".py",
   "mimetype": "text/x-python",
   "name": "python",
   "nbconvert_exporter": "python",
   "pygments_lexer": "ipython3",
   "version": "3.9.13"
  }
 },
 "nbformat": 4,
 "nbformat_minor": 5
}
