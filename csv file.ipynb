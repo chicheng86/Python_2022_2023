{
 "cells": [
  {
   "cell_type": "code",
   "execution_count": 7,
   "id": "2935af36",
   "metadata": {},
   "outputs": [
    {
     "data": {
      "text/plain": [
       "'C:\\\\Users\\\\guangwen\\\\311e77b8b8c2f334fc8bdaf652c1f47f-669174c98cf791308eac3ed3bc669f3fa76b81fb'"
      ]
     },
     "execution_count": 7,
     "metadata": {},
     "output_type": "execute_result"
    }
   ],
   "source": [
    "import os\n",
    "os.getcwd()"
   ]
  },
  {
   "cell_type": "code",
   "execution_count": 6,
   "id": "2a091c1f",
   "metadata": {
    "scrolled": true
   },
   "outputs": [
    {
     "name": "stdout",
     "output_type": "stream",
     "text": [
      "Column names are id.name\n",
      "Processed 700 lines.\n"
     ]
    }
   ],
   "source": [
    "import csv\n",
    "filename=\"animal-names.csv\"\n",
    "d_name={}\n",
    "d_name_length={}\n",
    "with open(filename,'r') as csv_file:\n",
    "    csv_reader=csv.reader(csv_file,delimiter=',')\n",
    "    line_count=0\n",
    "    for row in csv_reader:\n",
    "        if line_count==0:\n",
    "            print(f'Column names are {\".\".join(row)}')\n",
    "            line_count+=1\n",
    "        else:\n",
    "            d_name_length[row[0]]=len(row[1])\n",
    "            d_name[row[0]]=row[1]\n",
    "            line_count+=1\n",
    "            \n",
    "    print(f'Processed {line_count} lines.')\n"
   ]
  },
  {
   "cell_type": "code",
   "execution_count": 8,
   "id": "2a21997f",
   "metadata": {},
   "outputs": [
    {
     "name": "stdout",
     "output_type": "stream",
     "text": [
      "35\n"
     ]
    }
   ],
   "source": [
    "n=max(d_name_length.values())\n",
    "print(n)"
   ]
  },
  {
   "cell_type": "code",
   "execution_count": 9,
   "id": "f711e3a4",
   "metadata": {},
   "outputs": [],
   "source": [
    "def findlongestname(d_name_lenth):\n",
    "    for i in d_name_lenth:\n",
    "        if d_name_lenth[i] == max(d_name_lenth.values()):\n",
    "            return i\n",
    "    "
   ]
  },
  {
   "cell_type": "code",
   "execution_count": 10,
   "id": "b97d0913",
   "metadata": {},
   "outputs": [
    {
     "data": {
      "text/plain": [
       "'24'"
      ]
     },
     "execution_count": 10,
     "metadata": {},
     "output_type": "execute_result"
    }
   ],
   "source": [
    "findlongestname(d_name_length)"
   ]
  },
  {
   "cell_type": "code",
   "execution_count": 11,
   "id": "8849f087",
   "metadata": {},
   "outputs": [
    {
     "data": {
      "text/plain": [
       "'Amazon River Dolphin (Pink Dolphin)'"
      ]
     },
     "execution_count": 11,
     "metadata": {},
     "output_type": "execute_result"
    }
   ],
   "source": [
    "d_name['24']"
   ]
  },
  {
   "cell_type": "code",
   "execution_count": null,
   "id": "bf16802b",
   "metadata": {},
   "outputs": [],
   "source": []
  },
  {
   "cell_type": "code",
   "execution_count": null,
   "id": "f7dda34c",
   "metadata": {},
   "outputs": [],
   "source": []
  }
 ],
 "metadata": {
  "kernelspec": {
   "display_name": "Python 3 (ipykernel)",
   "language": "python",
   "name": "python3"
  },
  "language_info": {
   "codemirror_mode": {
    "name": "ipython",
    "version": 3
   },
   "file_extension": ".py",
   "mimetype": "text/x-python",
   "name": "python",
   "nbconvert_exporter": "python",
   "pygments_lexer": "ipython3",
   "version": "3.9.12"
  }
 },
 "nbformat": 4,
 "nbformat_minor": 5
}
