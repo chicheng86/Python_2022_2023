{
 "cells": [
  {
   "cell_type": "code",
   "execution_count": null,
   "metadata": {
    "collapsed": true
   },
   "outputs": [],
   "source": [
    "# searching\n",
    "# looping and counting.\n",
    "# string method"
   ]
  },
  {
   "cell_type": "code",
   "execution_count": null,
   "metadata": {},
   "outputs": [],
   "source": [
    "s='banana'\n",
    "s[2:5]"
   ]
  },
  {
   "cell_type": "markdown",
   "metadata": {},
   "source": [
    "traverse: To iterate through the items in a sequence, performing a similar operation on each"
   ]
  },
  {
   "cell_type": "code",
   "execution_count": null,
   "metadata": {},
   "outputs": [],
   "source": [
    "# Difference between for loop and while loop\n",
    "\n",
    "for i in range(10):\n",
    "    print(i)"
   ]
  },
  {
   "cell_type": "code",
   "execution_count": null,
   "metadata": {},
   "outputs": [],
   "source": [
    "for i in range(10):\n",
    "    print(i)\n",
    "    if i==5:\n",
    "        break"
   ]
  },
  {
   "cell_type": "code",
   "execution_count": null,
   "metadata": {},
   "outputs": [],
   "source": [
    "i=0\n",
    "while i<10:\n",
    "    print(i)\n",
    "    i=i+1"
   ]
  },
  {
   "cell_type": "code",
   "execution_count": null,
   "metadata": {},
   "outputs": [],
   "source": [
    "i=0\n",
    "while i<10:\n",
    "    print(i)\n",
    "    i=i+1\n",
    "    if i==5:\n",
    "        break"
   ]
  },
  {
   "cell_type": "code",
   "execution_count": null,
   "metadata": {
    "collapsed": true
   },
   "outputs": [],
   "source": [
    "# if I can find 'a' in s, I will print, 'I found it', if I cann't , I will print 'I cann't find it'\n",
    "s='banana'"
   ]
  },
  {
   "cell_type": "code",
   "execution_count": 1,
   "metadata": {},
   "outputs": [
    {
     "name": "stdout",
     "output_type": "stream",
     "text": [
      "I find it !\n",
      "I find it !\n",
      "I find it !\n"
     ]
    }
   ],
   "source": [
    "s='banana'\n",
    "i=0\n",
    "while i<len(s):\n",
    "    if s[i]=='a':\n",
    "        print('I find it !')\n",
    "    i=i+1"
   ]
  },
  {
   "cell_type": "code",
   "execution_count": 2,
   "metadata": {},
   "outputs": [
    {
     "name": "stdout",
     "output_type": "stream",
     "text": [
      "I find it !\n"
     ]
    }
   ],
   "source": [
    "s='banana'\n",
    "i=0\n",
    "while i<len(s):\n",
    "    if s[i]=='a':\n",
    "        print('I find it !')\n",
    "        break\n",
    "    i=i+1"
   ]
  },
  {
   "cell_type": "code",
   "execution_count": 5,
   "metadata": {},
   "outputs": [
    {
     "name": "stdout",
     "output_type": "stream",
     "text": [
      "I cannot find it\n",
      "I cannot find it\n",
      "I cannot find it\n",
      "I cannot find it\n",
      "I cannot find it\n",
      "I cannot find it\n"
     ]
    }
   ],
   "source": [
    "s='banana'\n",
    "i=0\n",
    "while i<len(s):\n",
    "    if s[i]=='c':\n",
    "        print('I find it !')\n",
    "        break    \n",
    "    else:\n",
    "        print('I cannot find it')\n",
    "    i=i+1"
   ]
  },
  {
   "cell_type": "code",
   "execution_count": 9,
   "metadata": {},
   "outputs": [
    {
     "name": "stdout",
     "output_type": "stream",
     "text": [
      "I cannot find it\n"
     ]
    }
   ],
   "source": [
    "s='banana'\n",
    "i=0\n",
    "while i<len(s):\n",
    "    if s[i]=='d':\n",
    "        print('I find it !')\n",
    "        break\n",
    "    i=i+1\n",
    "    \n",
    "if i==len(s):\n",
    "    print('I cannot find it')\n",
    "   "
   ]
  },
  {
   "cell_type": "code",
   "execution_count": 13,
   "metadata": {},
   "outputs": [
    {
     "data": {
      "text/plain": [
       "'I find it !'"
      ]
     },
     "execution_count": 13,
     "metadata": {},
     "output_type": "execute_result"
    }
   ],
   "source": [
    "s='banana'\n",
    "\n",
    "def findaletter(s,l):\n",
    "    i=0\n",
    "    while i<len(s):\n",
    "        if s[i]==l:\n",
    "            return('I find it !')\n",
    "            break\n",
    "        i=i+1\n",
    "    \n",
    "    if i==len(s):\n",
    "        return ('I cannot find it')\n",
    "findaletter('banana', 'a')"
   ]
  },
  {
   "cell_type": "code",
   "execution_count": null,
   "metadata": {
    "collapsed": true
   },
   "outputs": [],
   "source": []
  },
  {
   "cell_type": "code",
   "execution_count": null,
   "metadata": {
    "collapsed": true
   },
   "outputs": [],
   "source": [
    "# how to write a function"
   ]
  },
  {
   "cell_type": "code",
   "execution_count": null,
   "metadata": {
    "collapsed": true
   },
   "outputs": [],
   "source": []
  }
 ],
 "metadata": {
  "kernelspec": {
   "display_name": "Python 3",
   "language": "python",
   "name": "python3"
  },
  "language_info": {
   "codemirror_mode": {
    "name": "ipython",
    "version": 3
   },
   "file_extension": ".py",
   "mimetype": "text/x-python",
   "name": "python",
   "nbconvert_exporter": "python",
   "pygments_lexer": "ipython3",
   "version": "3.6.11"
  }
 },
 "nbformat": 4,
 "nbformat_minor": 2
}
